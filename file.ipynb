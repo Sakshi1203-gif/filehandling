{
  "nbformat": 4,
  "nbformat_minor": 0,
  "metadata": {
    "colab": {
      "provenance": []
    },
    "kernelspec": {
      "name": "python3",
      "display_name": "Python 3"
    },
    "language_info": {
      "name": "python"
    }
  },
  "cells": [
    {
      "cell_type": "markdown",
      "source": [
        "1.What is the difference between interpreted and compiled languages\n",
        "\n",
        "-    Compiled languages offer better performance and direct execution, but they require a separate compilation step and may be platform-specific.\n",
        "\n",
        "- Interpreted languages offer more flexibility, ease of debugging, and platform independence, but they typically come with slower execution speeds.\n"
      ],
      "metadata": {
        "id": "sdipUGqBel42"
      }
    },
    {
      "cell_type": "markdown",
      "source": [
        "2.What is exception handling in Python\n",
        "\n",
        "-Exception handling in Python is a mechanism that allows a program to respond to and manage runtime errors or \"exceptions\" gracefully, rather than crashing. It provides a way to separate normal code from error-handling code and allows the program to continue running even if an error occurs."
      ],
      "metadata": {
        "id": "s_qpbiOFe9Fc"
      }
    },
    {
      "cell_type": "markdown",
      "source": [
        "3.What is the purpose of the finally block in exception handling\n",
        "\n",
        "-The finally block is used to guarantee that certain actions, like resource cleanup or closing files, are always performed.\n",
        "It runs whether an exception occurs or not and executes even if a return or break is encountered in the try or except blocks."
      ],
      "metadata": {
        "id": "EPDoR-LefJv1"
      }
    },
    {
      "cell_type": "markdown",
      "source": [
        "4.What is logging in Python\n",
        "\n",
        "-Logging in Python refers to the process of recording messages, typically to track the execution of a program and capture information about its state, errors, or other significant events. The Python standard library includes a built-in logging module that provides a flexible framework for generating and managing log messages, which is critical for debugging, troubleshooting, and monitoring your applications."
      ],
      "metadata": {
        "id": "eQd_9y1MfabG"
      }
    },
    {
      "cell_type": "markdown",
      "source": [
        "5.What is the significance of the __del__ method in Python\n",
        "\n",
        "-The __del__ method in Python is a destructor method, which is automatically called when an object is about to be destroyed (i.e., when it is no longer referenced and is ready for garbage collection). The method allows you to define custom behavior for cleaning up or releasing resources associated with the object before it is removed from memory."
      ],
      "metadata": {
        "id": "wUPk7CWMfkPe"
      }
    },
    {
      "cell_type": "markdown",
      "source": [
        "6.What is the difference between import and from ... import in Python\n",
        "\n",
        "-import module_name: Imports the entire module, and you access functions, classes, or variables by prefixing them with the module name (e.g., module_name.function_name).\n",
        "\n",
        "from module_name import object_name: Imports specific objects from the module directly into your current namespace, allowing you to use them without the module name as a prefix.\n",
        "\n",
        "from module_name import *: Imports all objects from the module directly into your current namespace (not recommended).\n",
        "\n",
        "import ... as: You can import a module or object and assign it an alias to simplify access or avoid name conflicts."
      ],
      "metadata": {
        "id": "ZbFwJkLPf1Kv"
      }
    },
    {
      "cell_type": "markdown",
      "source": [
        "7.How can you handle multiple exceptions in Python\n",
        "\n",
        "- Multiple except blocks: Handle different exceptions separately with different blocks.\n",
        "Multiple exceptions in a single except block: Use a tuple to catch multiple exceptions in one block when the handling is the same.\n",
        "\n",
        "- else block: Executes if no exception occurs in the try block\n",
        "\n",
        "- finally block: Always executed, useful for cleanup tasks (like closing files or network connections).\n",
        "\n",
        "- Catching all exceptions: Use a generic except block (not recommended because it may mask unexpected errors).\n",
        "\n",
        "- Raising exceptions: Explicitly raise exceptions to enforce conditions or handle errors.\n",
        "\n",
        "- Nested exception handling: Handle exceptions at different levels using nested try-except blocks."
      ],
      "metadata": {
        "id": "Rui-4_qKgdY9"
      }
    },
    {
      "cell_type": "markdown",
      "source": [
        "8.What is the purpose of the with statement when handling files in Python\n",
        "\n",
        "-The with statement simplifies file handling in Python by managing the file's context, ensuring it is automatically closed after usage, and handling errors safely. This makes your code more concise, easier to read, and more reliable by preventing file handle leaks."
      ],
      "metadata": {
        "id": "GHkeLtXDhcS8"
      }
    },
    {
      "cell_type": "markdown",
      "source": [
        "9.What is the difference between multithreading and multiprocessing\n",
        "\n",
        "-multithreading when working with I/O-bound tasks and\n",
        "\n",
        "-choose multiprocessing for CPU-bound tasks to fully utilize multiple cores of your CPU."
      ],
      "metadata": {
        "id": "7sqfHtqCiQnk"
      }
    },
    {
      "cell_type": "markdown",
      "source": [
        "10.What are the advantages of using logging in a program\n",
        "\n",
        "-Using logging in a program provides several important advantages over simple print statements, especially in production environments or large-scale applications. The Python logging module is a powerful tool for tracking and recording events, errors, and other useful information during program execution."
      ],
      "metadata": {
        "id": "WMG_W0osiswF"
      }
    },
    {
      "cell_type": "markdown",
      "source": [
        "11.What is memory management in Python\n",
        "\n",
        "-Memory management in Python refers to the process of efficiently managing the allocation, usage, and deallocation of memory resources while running Python programs. Python handles memory management automatically through various mechanisms, such as reference counting, garbage collection, and dynamic typing. Understanding how Python manages memory is crucial for optimizing performance and avoiding memory leaks"
      ],
      "metadata": {
        "id": "IfIlZODHjIH_"
      }
    },
    {
      "cell_type": "markdown",
      "source": [
        "12.What are the basic steps involved in exception handling in Python\n",
        "\n",
        "-try block: Contains the code that may raise an exception.\n",
        "\n",
        "-except block: Handles the exception if one occurs.\n",
        "\n",
        "-else block: Runs if no exception occurs in the try block.\n",
        "\n",
        "-finally block: Always runs, regardless of whether an exception occurred or not."
      ],
      "metadata": {
        "id": "OlhPkwlWkGga"
      }
    },
    {
      "cell_type": "markdown",
      "source": [
        "13.Why is memory management important in Python\n",
        "\n",
        "-Memory management in Python is important for several reasons, including efficient resource usage, preventing memory leaks, improving performance, and ensuring system stability. Python’s automatic memory management, including reference counting and garbage collection, simplifies memory handling for developers and helps reduce the risk of errors. By understanding Python's memory management mechanisms and best practices, developers can write more efficient, reliable, and scalable applications.\n",
        "\n"
      ],
      "metadata": {
        "id": "O5KU9R92kffk"
      }
    },
    {
      "cell_type": "markdown",
      "source": [
        "14.What is the role of try and except in exception handling\n",
        "\n",
        "-try and except are key components of the exception handling mechanism. They allow you to manage and respond to errors or exceptional conditions that may arise during the execution of your program. The try block contains code that may raise an exception, and the except block defines how to handle those exceptions."
      ],
      "metadata": {
        "id": "feqGzXrEn2Q7"
      }
    },
    {
      "cell_type": "markdown",
      "source": [
        "15.How does Python's garbage collection system work\n",
        "\n",
        "-Reference Counting: Tracks the number of references to each object. When the count reaches zero, the object is deleted.\n",
        "\n",
        "Generational Garbage Collection: Divides objects into three generations (0, 1, and 2), and objects are collected more frequently in younger generations.\n",
        "\n",
        "Circular Reference Handling: The garbage collector can detect and clean up circular references that reference counting alone cannot handle.\n",
        "\n",
        "gc Module: Provides control over garbage collection for fine-grained management, including forcing a garbage collection cycle."
      ],
      "metadata": {
        "id": "09s1v50_k0sv"
      }
    },
    {
      "cell_type": "markdown",
      "source": [
        "16.What is the purpose of the else block in exception handling\n",
        "\n",
        "-The else block in Python's exception handling mechanism is an optional block that comes after the try and except blocks. Its purpose is to define code that should execute only if no exceptions are raised in the try block. If the try block executes successfully without encountering any errors, the code inside the else block will run."
      ],
      "metadata": {
        "id": "CFBJDAcjlbsK"
      }
    },
    {
      "cell_type": "markdown",
      "source": [
        "17.What are the common logging levels in Python\n",
        "\n",
        "-DEBUG: Use for detailed information that is useful during development or debugging, but generally not needed in production.\n",
        "\n",
        "INFO: Use for general information about program execution, such as when key processes start or finish.\n",
        "\n",
        "WARNING: Use when something unexpected happens, but it does not stop the program from continuing to run (potential issues).\n",
        "\n",
        "ERROR: Use when something goes wrong in the program, but it doesn’t stop the entire program from executing.\n",
        "\n",
        "CRITICAL: Use for situations that are very serious and may lead to the termination of the program (like crashes or unhandled exceptions)."
      ],
      "metadata": {
        "id": "JC9mqTqHl5Vx"
      }
    },
    {
      "cell_type": "markdown",
      "source": [
        "18. What is the difference between os.fork() and multiprocessing in Python\n",
        "\n",
        "- os.fork():\n",
        "\n",
        "Suitable for low-level control over processes.\n",
        "    \n",
        "Ideal for system-level programming on Unix-like systems.\n",
        "\n",
        "    \n",
        "Limited to Unix-based operating systems (not available on Windows).\n",
        "\n",
        "- multiprocessing:\n",
        "\n",
        "Preferred for creating and managing processes in Python programs, especially when writing parallel applications.\n",
        "\n",
        "    \n",
        "    \n",
        "Provides a higher-level, easier-to-use API that is cross-platform.\n",
        "\n",
        "    \n",
        "Useful when you need process-based parallelism with easy inter-process communication.\n",
        "\n",
        "\n"
      ],
      "metadata": {
        "id": "N9T_5ZhfmdOB"
      }
    },
    {
      "cell_type": "markdown",
      "source": [
        "19.What is the importance of closing a file in Python\n",
        "\n",
        "-    Closing a file ensures that system resources (e.g., file descriptors) are freed, data is flushed to disk, and changes are properly saved.\n",
        "\n",
        "    It prevents resource leakage, data corruption, and potential errors caused by unclosed files.\n",
        "\n",
        "    Using the with statement is a best practice as it automatically handles file closing, making your code cleaner and more reliable.\n",
        "\n"
      ],
      "metadata": {
        "id": "47Pbl4KWpkyJ"
      }
    },
    {
      "cell_type": "markdown",
      "source": [
        "20.What is the difference between file.read() and file.readline() in Python\n",
        "\n",
        "- file.read(): Reads the entire file (or a specified number of bytes) as a single string. Useful for smaller files or when you need the whole content at once.\n",
        "\n",
        "- file.readline(): Reads one line at a time. Useful for reading large files line by line or when you want to process lines individually."
      ],
      "metadata": {
        "id": "rFsRbLfkqZBN"
      }
    },
    {
      "cell_type": "markdown",
      "source": [
        "21.What is the logging module in Python used for\n",
        "\n",
        "-The logging module in Python is used for generating log messages in applications. It provides a flexible framework for logging information, warnings, errors, and debugging information during the execution of a program. It allows developers to track events, monitor the state of a program, and troubleshoot issues in both development and production environments.\n",
        "\n"
      ],
      "metadata": {
        "id": "2Vk6_J2FqSAj"
      }
    },
    {
      "cell_type": "markdown",
      "source": [
        "22.What is the os module in Python used for in file handling\n",
        "\n",
        "-the os module is extremely useful for file and directory manipulation in Python. It provides functions for creating, deleting, renaming, and checking files and directories, as well as manipulating file paths and retrieving file metadata. By using the os module, you can perform a wide range of file handling tasks that are critical for managing file systems and interacting with the underlying operating system."
      ],
      "metadata": {
        "id": "k207u6B1rDwu"
      }
    },
    {
      "cell_type": "markdown",
      "source": [
        "23.What are the challenges associated with memory management in Python\n",
        "\n",
        "-ython’s automatic memory management, through techniques like garbage collection and reference counting, simplifies memory handling, it also comes with challenges, particularly in terms of memory leaks, fragmentation, and inefficient memory usage. Understanding these challenges and using best practices such as using efficient data structures, manually invoking garbage collection when necessary, and optimizing memory usage in multithreaded or recursive applications can help manage memory more effectively in Python."
      ],
      "metadata": {
        "id": "daX7cZf2sK95"
      }
    },
    {
      "cell_type": "markdown",
      "source": [
        "24.How do you raise an exception manually in Python\n",
        "\n",
        "-in Python, you can raise an exception manually using the raise statement. This allows you to trigger an exception in your code, which can be useful for handling error conditions, validating inputs, or controlling the flow of execution."
      ],
      "metadata": {
        "id": "pOdgPJDAtB6K"
      }
    },
    {
      "cell_type": "markdown",
      "source": [
        "25.Why is it important to use multithreading in certain applications\n",
        "\n",
        "-Multithreading is important in certain applications because it can significantly improve the performance, responsiveness, and efficiency of programs by allowing concurrent execution of tasks. It is particularly useful in scenarios where multiple tasks can be executed independently or where programs need to manage multiple activities simultaneously"
      ],
      "metadata": {
        "id": "sdFPkdyNt9P0"
      }
    },
    {
      "cell_type": "markdown",
      "source": [
        "**Practical Questions**"
      ],
      "metadata": {
        "id": "A6DFuzfDuzel"
      }
    },
    {
      "cell_type": "markdown",
      "source": [
        "1.How can you open a file for writing in Python and write a string to it"
      ],
      "metadata": {
        "id": "yTPVpAnnu3MZ"
      }
    },
    {
      "cell_type": "code",
      "source": [
        "# Open the file for writing (this will overwrite the file if it already exists)\n",
        "file = open(\"example.txt\", \"w\")\n",
        "\n",
        "# Write a string to the file\n",
        "file.write(\"Hello, this is a string written to the file.\")\n",
        "\n",
        "# Close the file\n",
        "file.close()\n"
      ],
      "metadata": {
        "id": "R8plt-IEt7kf"
      },
      "execution_count": 1,
      "outputs": []
    },
    {
      "cell_type": "markdown",
      "source": [
        "2.Write a Python program to read the contents of a file and print each lineF\n"
      ],
      "metadata": {
        "id": "rVFx28avvUij"
      }
    },
    {
      "cell_type": "code",
      "source": [
        "# Open the file for reading\n",
        "with open(\"example.txt\", \"r\") as file:\n",
        "    # Read and print each line\n",
        "    for line in file:\n",
        "        print(line.strip())  # strip() removes leading/trailing whitespace\n"
      ],
      "metadata": {
        "colab": {
          "base_uri": "https://localhost:8080/"
        },
        "id": "wsw_qJzvvFcE",
        "outputId": "4ef06614-5036-4f18-c34b-589e1c9fbd24"
      },
      "execution_count": 2,
      "outputs": [
        {
          "output_type": "stream",
          "name": "stdout",
          "text": [
            "Hello, this is a string written to the file.\n"
          ]
        }
      ]
    },
    {
      "cell_type": "markdown",
      "source": [
        "3.How would you handle a case where the file doesn't exist while trying to open it for reading\u001f"
      ],
      "metadata": {
        "id": "GwQgIZG8vucS"
      }
    },
    {
      "cell_type": "code",
      "source": [
        "try:\n",
        "    # Try to open the file for reading\n",
        "    with open(\"example.txt\", \"r\") as file:\n",
        "        # Read and print each line from the file\n",
        "        for line in file:\n",
        "            print(line.strip())\n",
        "except FileNotFoundError:\n",
        "    print(\"Error: The file does not exist.\")\n"
      ],
      "metadata": {
        "id": "FOuGTpuUv12D",
        "outputId": "d2b72f9f-5a86-4d42-d7ed-ce1a2451bc68",
        "colab": {
          "base_uri": "https://localhost:8080/"
        }
      },
      "execution_count": 3,
      "outputs": [
        {
          "output_type": "stream",
          "name": "stdout",
          "text": [
            "Hello, this is a string written to the file.\n"
          ]
        }
      ]
    },
    {
      "cell_type": "markdown",
      "source": [
        "4.Write a Python script that reads from one file and writes its content to another file"
      ],
      "metadata": {
        "id": "CgoRDKQtwHc_"
      }
    },
    {
      "cell_type": "code",
      "source": [
        "# Open the source file for reading\n",
        "with open(\"source_file.txt\", \"r\") as source_file:\n",
        "    # Open the destination file for writing\n",
        "    with open(\"destination_file.txt\", \"w\") as destination_file:\n",
        "        # Read the contents of the source file and write it to the destination file\n",
        "        destination_file.write(source_file.read())\n",
        "\n",
        "print(\"File content has been copied successfully.\")\n"
      ],
      "metadata": {
        "id": "5Q4XZwldwRFn",
        "outputId": "06c220b8-b3b2-4660-fedc-91e432df0285",
        "colab": {
          "base_uri": "https://localhost:8080/",
          "height": 211
        }
      },
      "execution_count": 5,
      "outputs": [
        {
          "output_type": "error",
          "ename": "FileNotFoundError",
          "evalue": "[Errno 2] No such file or directory: 'source_file.txt'",
          "traceback": [
            "\u001b[0;31m---------------------------------------------------------------------------\u001b[0m",
            "\u001b[0;31mFileNotFoundError\u001b[0m                         Traceback (most recent call last)",
            "\u001b[0;32m<ipython-input-5-c23b0faca8fa>\u001b[0m in \u001b[0;36m<cell line: 2>\u001b[0;34m()\u001b[0m\n\u001b[1;32m      1\u001b[0m \u001b[0;31m# Open the source file for reading\u001b[0m\u001b[0;34m\u001b[0m\u001b[0;34m\u001b[0m\u001b[0m\n\u001b[0;32m----> 2\u001b[0;31m \u001b[0;32mwith\u001b[0m \u001b[0mopen\u001b[0m\u001b[0;34m(\u001b[0m\u001b[0;34m\"source_file.txt\"\u001b[0m\u001b[0;34m,\u001b[0m \u001b[0;34m\"r\"\u001b[0m\u001b[0;34m)\u001b[0m \u001b[0;32mas\u001b[0m \u001b[0msource_file\u001b[0m\u001b[0;34m:\u001b[0m\u001b[0;34m\u001b[0m\u001b[0;34m\u001b[0m\u001b[0m\n\u001b[0m\u001b[1;32m      3\u001b[0m     \u001b[0;31m# Open the destination file for writing\u001b[0m\u001b[0;34m\u001b[0m\u001b[0;34m\u001b[0m\u001b[0m\n\u001b[1;32m      4\u001b[0m     \u001b[0;32mwith\u001b[0m \u001b[0mopen\u001b[0m\u001b[0;34m(\u001b[0m\u001b[0;34m\"destination_file.txt\"\u001b[0m\u001b[0;34m,\u001b[0m \u001b[0;34m\"w\"\u001b[0m\u001b[0;34m)\u001b[0m \u001b[0;32mas\u001b[0m \u001b[0mdestination_file\u001b[0m\u001b[0;34m:\u001b[0m\u001b[0;34m\u001b[0m\u001b[0;34m\u001b[0m\u001b[0m\n\u001b[1;32m      5\u001b[0m         \u001b[0;31m# Read the contents of the source file and write it to the destination file\u001b[0m\u001b[0;34m\u001b[0m\u001b[0;34m\u001b[0m\u001b[0m\n",
            "\u001b[0;31mFileNotFoundError\u001b[0m: [Errno 2] No such file or directory: 'source_file.txt'"
          ]
        }
      ]
    },
    {
      "cell_type": "markdown",
      "source": [
        "5.F How would you catch and handle division by zero error in Python"
      ],
      "metadata": {
        "id": "d3c7tz1hwjc3"
      }
    },
    {
      "cell_type": "code",
      "source": [
        "try:\n",
        "    # Try dividing two numbers\n",
        "    numerator = 10\n",
        "    denominator = 0\n",
        "    result = numerator / denominator\n",
        "    print(f\"Result: {result}\")\n",
        "except ZeroDivisionError:\n",
        "    # Handle the division by zero error\n",
        "    print(\"Error: Cannot divide by zero!\")\n"
      ],
      "metadata": {
        "id": "sHYxImOYw4lL",
        "outputId": "52daeb62-5485-4f97-bf84-f3ed796d32e8",
        "colab": {
          "base_uri": "https://localhost:8080/"
        }
      },
      "execution_count": 6,
      "outputs": [
        {
          "output_type": "stream",
          "name": "stdout",
          "text": [
            "Error: Cannot divide by zero!\n"
          ]
        }
      ]
    },
    {
      "cell_type": "markdown",
      "source": [
        "6.Write a Python program that logs an error message to a log file when a division by zero exception occurs"
      ],
      "metadata": {
        "id": "cn8ZI-VRw-4B"
      }
    },
    {
      "cell_type": "code",
      "source": [
        "import logging\n",
        "\n",
        "# Set up the logging configuration\n",
        "logging.basicConfig(\n",
        "    filename='error_log.txt',  # The log file where error messages will be saved\n",
        "    level=logging.ERROR,       # Set the logging level to ERROR\n",
        "    format='%(asctime)s - %(levelname)s - %(message)s'  # Format for log messages\n",
        ")\n",
        "\n",
        "try:\n",
        "    # Try dividing two numbers\n",
        "    numerator = 10\n",
        "    denominator = 0\n",
        "    result = numerator / denominator\n",
        "    print(f\"Result: {result}\")\n",
        "except ZeroDivisionError as e:\n",
        "    # Log the division by zero error message\n",
        "    logging.error(f\"Division by zero error: {e}\")\n",
        "    print(\"Error: Cannot divide by zero!\")\n"
      ],
      "metadata": {
        "id": "vG6G2gVcxICd",
        "outputId": "2e1590fa-44f4-4e79-c046-d16c8fa3ef47",
        "colab": {
          "base_uri": "https://localhost:8080/"
        }
      },
      "execution_count": 7,
      "outputs": [
        {
          "output_type": "stream",
          "name": "stderr",
          "text": [
            "ERROR:root:Division by zero error: division by zero\n"
          ]
        },
        {
          "output_type": "stream",
          "name": "stdout",
          "text": [
            "Error: Cannot divide by zero!\n"
          ]
        }
      ]
    },
    {
      "cell_type": "markdown",
      "source": [
        "7.How do you log information at different levels (INFO, ERROR, WARNING) in Python using the logging module"
      ],
      "metadata": {
        "id": "iw7tpS9TxaCh"
      }
    },
    {
      "cell_type": "code",
      "source": [
        "import logging\n",
        "\n",
        "# Set up the logging configuration\n",
        "logging.basicConfig(\n",
        "    filename='app_log.txt',  # The log file where messages will be saved\n",
        "    level=logging.DEBUG,     # Set the logging level to DEBUG\n",
        "    format='%(asctime)s - %(levelname)s - %(message)s'  # Format for log messages\n",
        ")\n",
        "\n",
        "# Log messages at different levels\n",
        "logging.debug(\"This is a debug message, for diagnosing problems.\")\n",
        "logging.info(\"This is an informational message, about the application's progress.\")\n",
        "logging.warning(\"This is a warning message, something might go wrong soon.\")\n",
        "logging.error(\"This is an error message, something went wrong.\")\n",
        "logging.critical(\"This is a critical message, something severe happened!\")\n",
        "\n",
        "print(\"Log messages have been written to 'app_log.txt'.\")\n"
      ],
      "metadata": {
        "id": "IaFNIppixug2",
        "outputId": "98980257-739f-434c-9d00-b4f0b12e1b66",
        "colab": {
          "base_uri": "https://localhost:8080/"
        }
      },
      "execution_count": 8,
      "outputs": [
        {
          "output_type": "stream",
          "name": "stderr",
          "text": [
            "WARNING:root:This is a warning message, something might go wrong soon.\n",
            "ERROR:root:This is an error message, something went wrong.\n",
            "CRITICAL:root:This is a critical message, something severe happened!\n"
          ]
        },
        {
          "output_type": "stream",
          "name": "stdout",
          "text": [
            "Log messages have been written to 'app_log.txt'.\n"
          ]
        }
      ]
    },
    {
      "cell_type": "markdown",
      "source": [
        "8.Write a program to handle a file opening error using exception handling"
      ],
      "metadata": {
        "id": "36tf1aQqyCFm"
      }
    },
    {
      "cell_type": "code",
      "source": [
        "try:\n",
        "    # Try to open a file for reading\n",
        "    file = open(\"nonexistent_file.txt\", \"r\")\n",
        "    # Read and print the content if file is opened successfully\n",
        "    content = file.read()\n",
        "    print(content)\n",
        "except FileNotFoundError:\n",
        "    print(\"Error: The file does not exist.\")\n",
        "except PermissionError:\n",
        "    print(\"Error: You do not have permission to access the file.\")\n",
        "except Exception as e:\n",
        "    print(f\"An unexpected error occurred: {e}\")\n",
        "finally:\n",
        "    try:\n",
        "        # Close the file if it was opened\n",
        "        file.close()\n",
        "    except NameError:\n",
        "        # If the file was not opened due to an error, handle the NameError\n",
        "        pass\n"
      ],
      "metadata": {
        "id": "UHvnDQojySWK",
        "outputId": "fe7bb80d-cfad-4419-cedd-6bf012601a38",
        "colab": {
          "base_uri": "https://localhost:8080/"
        }
      },
      "execution_count": 9,
      "outputs": [
        {
          "output_type": "stream",
          "name": "stdout",
          "text": [
            "Error: The file does not exist.\n"
          ]
        }
      ]
    },
    {
      "cell_type": "markdown",
      "source": [
        "9. How can you read a file line by line and store its content in a list in Python"
      ],
      "metadata": {
        "id": "v-MmNeI9yYJ4"
      }
    },
    {
      "cell_type": "code",
      "source": [
        "# Open the file in read mode\n",
        "with open(\"example.txt\", \"r\") as file:\n",
        "    # Read all lines and store them in a list\n",
        "    lines = file.readlines()\n",
        "\n",
        "# Print the list of lines\n",
        "print(lines)\n"
      ],
      "metadata": {
        "id": "bFHj1JQzyclJ",
        "outputId": "9e2910ad-6065-4785-9e63-5e37b28600b4",
        "colab": {
          "base_uri": "https://localhost:8080/"
        }
      },
      "execution_count": 10,
      "outputs": [
        {
          "output_type": "stream",
          "name": "stdout",
          "text": [
            "['Hello, this is a string written to the file.']\n"
          ]
        }
      ]
    },
    {
      "cell_type": "markdown",
      "source": [
        "1o.How can you append data to an existing file in Python"
      ],
      "metadata": {
        "id": "wZGP61PQyjUU"
      }
    },
    {
      "cell_type": "code",
      "source": [
        "# Open the file in append mode\n",
        "with open(\"example.txt\", \"a\") as file:\n",
        "    # Append a new line of text to the file\n",
        "    file.write(\"This is a new line added to the file.\\n\")\n",
        "\n",
        "print(\"Data has been appended to the file.\")\n"
      ],
      "metadata": {
        "id": "r5mjrMqMyptR",
        "outputId": "6c557c8d-285d-4444-bcbd-89df5e4c6078",
        "colab": {
          "base_uri": "https://localhost:8080/"
        }
      },
      "execution_count": 11,
      "outputs": [
        {
          "output_type": "stream",
          "name": "stdout",
          "text": [
            "Data has been appended to the file.\n"
          ]
        }
      ]
    },
    {
      "cell_type": "markdown",
      "source": [
        "11.Write a Python program that uses a try-except block to handle an error when attempting to access a\n",
        "dictionary key that doesn't exist"
      ],
      "metadata": {
        "id": "_tJNMTply2vD"
      }
    },
    {
      "cell_type": "code",
      "source": [
        "# Sample dictionary\n",
        "sample_dict = {\n",
        "    \"name\": \"John\",\n",
        "    \"age\": 30,\n",
        "    \"city\": \"New York\"\n",
        "}\n",
        "\n",
        "try:\n",
        "    # Attempting to access a non-existing key\n",
        "    value = sample_dict[\"country\"]\n",
        "    print(f\"The country is: {value}\")\n",
        "except KeyError:\n",
        "    # Handle the case when the key doesn't exist\n",
        "    print(\"Error: The key 'country' does not exist in the dictionary.\")\n"
      ],
      "metadata": {
        "id": "PI9EJ3FpzN8s",
        "outputId": "12bdeac9-4fd0-467c-b33d-e1612c3d2e53",
        "colab": {
          "base_uri": "https://localhost:8080/"
        }
      },
      "execution_count": 12,
      "outputs": [
        {
          "output_type": "stream",
          "name": "stdout",
          "text": [
            "Error: The key 'country' does not exist in the dictionary.\n"
          ]
        }
      ]
    },
    {
      "cell_type": "markdown",
      "source": [
        "12.Write a program that demonstrates using multiple except blocks to handle different types of exceptions"
      ],
      "metadata": {
        "id": "spe-KvmwziRQ"
      }
    },
    {
      "cell_type": "code",
      "source": [
        "def divide_numbers():\n",
        "    try:\n",
        "        # Asking user to input two numbers\n",
        "        num1 = float(input(\"Enter the first number: \"))\n",
        "        num2 = float(input(\"Enter the second number: \"))\n",
        "\n",
        "        # Trying to divide the two numbers\n",
        "        result = num1 / num2\n",
        "        print(f\"The result of {num1} divided by {num2} is: {result}\")\n",
        "\n",
        "    except ZeroDivisionError:\n",
        "        # Handle division by zero error\n",
        "        print(\"Error: Cannot divide by zero.\")\n",
        "\n",
        "    except ValueError:\n",
        "        # Handle invalid input (non-numeric input)\n",
        "        print(\"Error: Please enter valid numbers.\")\n",
        "\n",
        "    except Exception as e:\n",
        "        # Catch any other unexpected exceptions\n",
        "        print(f\"An unexpected error occurred: {e}\")\n",
        "\n",
        "# Calling the function\n",
        "divide_numbers()\n"
      ],
      "metadata": {
        "id": "P9SU7bfnzz3l",
        "outputId": "8c310fc8-739e-47a2-a12e-900f5760d53d",
        "colab": {
          "base_uri": "https://localhost:8080/"
        }
      },
      "execution_count": 13,
      "outputs": [
        {
          "output_type": "stream",
          "name": "stdout",
          "text": [
            "Enter the first number: 12\n",
            "Enter the second number: 0\n",
            "Error: Cannot divide by zero.\n"
          ]
        }
      ]
    },
    {
      "cell_type": "markdown",
      "source": [
        "13.How would you check if a file exists before attempting to read it in Python"
      ],
      "metadata": {
        "id": "x4ZsHykR0CTq"
      }
    },
    {
      "cell_type": "code",
      "source": [
        "import os\n",
        "\n",
        "file_path = \"example.txt\"\n",
        "\n",
        "# Check if the file exists before attempting to read it\n",
        "if os.path.exists(file_path):\n",
        "    with open(file_path, \"r\") as file:\n",
        "        content = file.read()\n",
        "        print(content)\n",
        "else:\n",
        "    print(f\"Error: The file '{file_path}' does not exist.\")\n"
      ],
      "metadata": {
        "id": "2gAUsA4P0Mrr",
        "outputId": "a880e23d-9b63-4086-9c93-a9213d15786c",
        "colab": {
          "base_uri": "https://localhost:8080/"
        }
      },
      "execution_count": 14,
      "outputs": [
        {
          "output_type": "stream",
          "name": "stdout",
          "text": [
            "Hello, this is a string written to the file.This is a new line added to the file.\n",
            "\n"
          ]
        }
      ]
    },
    {
      "cell_type": "markdown",
      "source": [
        "14.Write a program that uses the logging module to log both informational and error messages"
      ],
      "metadata": {
        "id": "j7rP49b30a2r"
      }
    },
    {
      "cell_type": "code",
      "source": [
        "import logging\n",
        "\n",
        "# Configure the logging settings\n",
        "logging.basicConfig(\n",
        "    level=logging.DEBUG,  # Capture all log levels (DEBUG, INFO, WARNING, ERROR, CRITICAL)\n",
        "    format='%(asctime)s - %(levelname)s - %(message)s',  # Include timestamp, log level, and message\n",
        "    filename='app.log',  # Log messages to a file named 'app.log'\n",
        "    filemode='w'  # 'w' to overwrite the file on each run (use 'a' to append)\n",
        ")\n",
        "\n",
        "# Log an informational message\n",
        "logging.info('This is an informational message.')\n",
        "\n",
        "# Simulating an operation that may produce an error\n",
        "try:\n",
        "    # Division by zero to simulate an error\n",
        "    result = 10 / 0\n",
        "except ZeroDivisionError as e:\n",
        "    logging.error(f'Error occurred: {e}')  # Log the error message\n",
        "\n",
        "# Log another informational message\n",
        "logging.info('Program executed successfully.')\n"
      ],
      "metadata": {
        "id": "p1nUFerd0jph",
        "outputId": "26ca8840-3474-46ca-f89a-17d3634139cf",
        "colab": {
          "base_uri": "https://localhost:8080/"
        }
      },
      "execution_count": 15,
      "outputs": [
        {
          "output_type": "stream",
          "name": "stderr",
          "text": [
            "ERROR:root:Error occurred: division by zero\n"
          ]
        }
      ]
    },
    {
      "cell_type": "markdown",
      "source": [
        "15.Write a Python program that prints the content of a file and handles the case when the file is empty"
      ],
      "metadata": {
        "id": "7IGcB9X70zr7"
      }
    },
    {
      "cell_type": "code",
      "source": [
        "def print_file_content(file_path):\n",
        "    try:\n",
        "        # Open the file in read mode\n",
        "        with open(file_path, 'r') as file:\n",
        "            content = file.read()\n",
        "\n",
        "            # Check if the file is empty\n",
        "            if content:\n",
        "                print(\"File content:\")\n",
        "                print(content)\n",
        "            else:\n",
        "                print(\"The file is empty.\")\n",
        "\n",
        "    except FileNotFoundError:\n",
        "        print(f\"Error: The file '{file_path}' does not exist.\")\n",
        "    except Exception as e:\n",
        "        print(f\"An unexpected error occurred: {e}\")\n",
        "\n",
        "# Specify the file path\n",
        "file_path = 'example.txt'\n",
        "\n",
        "# Call the function to print the file content\n",
        "print_file_content(file_path)\n"
      ],
      "metadata": {
        "id": "wzyjGyeT0_68",
        "outputId": "e87cc03f-902d-4d11-d26a-9d7e3f22b34f",
        "colab": {
          "base_uri": "https://localhost:8080/"
        }
      },
      "execution_count": 16,
      "outputs": [
        {
          "output_type": "stream",
          "name": "stdout",
          "text": [
            "File content:\n",
            "Hello, this is a string written to the file.This is a new line added to the file.\n",
            "\n"
          ]
        }
      ]
    },
    {
      "cell_type": "markdown",
      "source": [
        "16.Demonstrate how to use memory profiling to check the memory usage of a small program"
      ],
      "metadata": {
        "id": "b9sDvQq51Mc3"
      }
    },
    {
      "cell_type": "code",
      "source": [
        "\n",
        "\n",
        "# Import the memory profiler package\n",
        "from memory_profiler import profile\n",
        "\n",
        "# Define a simple function to demonstrate memory profiling\n",
        "@profile\n",
        "def my_function():\n",
        "    a = [1] * (10 ** 6)  # Create a large list of integers\n",
        "    b = [2] * (2 * 10 ** 7)  # Create an even larger list of integers\n",
        "    del b  # Delete the larger list to free memory\n",
        "    return a\n",
        "\n",
        "# Call the function\n",
        "my_function()\n"
      ],
      "metadata": {
        "id": "dH8HOHBA1WsL",
        "outputId": "656e6c0e-ad70-4d78-82be-5719394b9346",
        "colab": {
          "base_uri": "https://localhost:8080/",
          "height": 383
        }
      },
      "execution_count": 19,
      "outputs": [
        {
          "output_type": "error",
          "ename": "ModuleNotFoundError",
          "evalue": "No module named 'memory_profiler'",
          "traceback": [
            "\u001b[0;31m---------------------------------------------------------------------------\u001b[0m",
            "\u001b[0;31mModuleNotFoundError\u001b[0m                       Traceback (most recent call last)",
            "\u001b[0;32m<ipython-input-19-e0a2831a31b7>\u001b[0m in \u001b[0;36m<cell line: 2>\u001b[0;34m()\u001b[0m\n\u001b[1;32m      1\u001b[0m \u001b[0;31m# Import the memory profiler package\u001b[0m\u001b[0;34m\u001b[0m\u001b[0;34m\u001b[0m\u001b[0m\n\u001b[0;32m----> 2\u001b[0;31m \u001b[0;32mfrom\u001b[0m \u001b[0mmemory_profiler\u001b[0m \u001b[0;32mimport\u001b[0m \u001b[0mprofile\u001b[0m\u001b[0;34m\u001b[0m\u001b[0;34m\u001b[0m\u001b[0m\n\u001b[0m\u001b[1;32m      3\u001b[0m \u001b[0;34m\u001b[0m\u001b[0m\n\u001b[1;32m      4\u001b[0m \u001b[0;31m# Define a simple function to demonstrate memory profiling\u001b[0m\u001b[0;34m\u001b[0m\u001b[0;34m\u001b[0m\u001b[0m\n\u001b[1;32m      5\u001b[0m \u001b[0;34m@\u001b[0m\u001b[0mprofile\u001b[0m\u001b[0;34m\u001b[0m\u001b[0;34m\u001b[0m\u001b[0m\n",
            "\u001b[0;31mModuleNotFoundError\u001b[0m: No module named 'memory_profiler'",
            "",
            "\u001b[0;31m---------------------------------------------------------------------------\u001b[0;32m\nNOTE: If your import is failing due to a missing package, you can\nmanually install dependencies using either !pip or !apt.\n\nTo view examples of installing some common dependencies, click the\n\"Open Examples\" button below.\n\u001b[0;31m---------------------------------------------------------------------------\u001b[0m\n"
          ],
          "errorDetails": {
            "actions": [
              {
                "action": "open_url",
                "actionText": "Open Examples",
                "url": "/notebooks/snippets/importing_libraries.ipynb"
              }
            ]
          }
        }
      ]
    },
    {
      "cell_type": "markdown",
      "source": [
        "17.Write a Python program to create and write a list of numbers to a file, one number per line\n"
      ],
      "metadata": {
        "id": "kaSul6D81soi"
      }
    },
    {
      "cell_type": "code",
      "source": [
        "def write_numbers_to_file(file_name, numbers):\n",
        "    try:\n",
        "        # Open the file in write mode ('w')\n",
        "        with open(file_name, 'w') as file:\n",
        "            for number in numbers:\n",
        "                file.write(f\"{number}\\n\")  # Write each number on a new line\n",
        "        print(f\"Numbers successfully written to {file_name}\")\n",
        "    except Exception as e:\n",
        "        print(f\"An error occurred: {e}\")\n",
        "\n",
        "# List of numbers\n",
        "numbers = [1, 2, 3, 4, 5, 6, 7, 8, 9, 10]\n",
        "\n",
        "# Specify the file name\n",
        "file_name = \"numbers.txt\"\n",
        "\n",
        "# Call the function to write the numbers to the file\n",
        "write_numbers_to_file(file_name, numbers)\n"
      ],
      "metadata": {
        "id": "zX4jw1zt2Hl5",
        "outputId": "fe7f2d9b-f107-4e7f-a951-ab8adca67743",
        "colab": {
          "base_uri": "https://localhost:8080/"
        }
      },
      "execution_count": 21,
      "outputs": [
        {
          "output_type": "stream",
          "name": "stdout",
          "text": [
            "Numbers successfully written to numbers.txt\n"
          ]
        }
      ]
    },
    {
      "cell_type": "markdown",
      "source": [
        "18. How would you implement a basic logging setup that logs to a file with rotation after 1MB"
      ],
      "metadata": {
        "id": "vbFSGhw52Xuk"
      }
    },
    {
      "cell_type": "code",
      "source": [
        "import logging\n",
        "from logging.handlers import RotatingFileHandler\n",
        "\n",
        "# Define the log file and its maximum size (1MB)\n",
        "log_file = 'app.log'\n",
        "max_log_size = 1 * 1024 * 1024  # 1 MB in bytes\n",
        "backup_count = 3  # Number of backup log files to keep\n",
        "\n",
        "# Set up the logging configuration\n",
        "logger = logging.getLogger('MyLogger')\n",
        "logger.setLevel(logging.DEBUG)  # Set the logging level\n",
        "\n",
        "# Create a RotatingFileHandler that rotates the log file when it reaches 1MB\n",
        "handler = RotatingFileHandler(log_file, maxBytes=max_log_size, backupCount=backup_count)\n",
        "handler.setLevel(logging.DEBUG)  # Log all levels (DEBUG and above)\n",
        "\n",
        "# Create a formatter for log messages (time, log level, and message)\n",
        "formatter = logging.Formatter('%(asctime)s - %(levelname)s - %(message)s')\n",
        "handler.setFormatter(formatter)\n",
        "\n",
        "# Add the handler to the logger\n",
        "logger.addHandler(handler)\n",
        "\n",
        "# Example log messages\n",
        "logger.debug(\"This is a debug message.\")\n",
        "logger.info(\"This is an info message.\")\n",
        "logger.warning(\"This is a warning message.\")\n",
        "logger.error(\"This is an error message.\")\n",
        "logger.critical(\"This is a critical message.\")\n"
      ],
      "metadata": {
        "id": "mqmFRfVt2I0H",
        "outputId": "b9c550ed-19fa-4650-fd3f-519f29097dcc",
        "colab": {
          "base_uri": "https://localhost:8080/"
        }
      },
      "execution_count": 22,
      "outputs": [
        {
          "output_type": "stream",
          "name": "stderr",
          "text": [
            "DEBUG:MyLogger:This is a debug message.\n",
            "INFO:MyLogger:This is an info message.\n",
            "WARNING:MyLogger:This is a warning message.\n",
            "ERROR:MyLogger:This is an error message.\n",
            "CRITICAL:MyLogger:This is a critical message.\n"
          ]
        }
      ]
    },
    {
      "cell_type": "markdown",
      "source": [
        "19.Write a program that handles both IndexError and KeyError using a try-except block"
      ],
      "metadata": {
        "id": "Rm_LA3bf2y-i"
      }
    },
    {
      "cell_type": "code",
      "source": [
        "def handle_exceptions():\n",
        "    my_list = [1, 2, 3]\n",
        "    my_dict = {\"a\": 1, \"b\": 2, \"c\": 3}\n",
        "\n",
        "    try:\n",
        "        # Trigger IndexError\n",
        "        print(my_list[5])  # Accessing an index that doesn't exist\n",
        "\n",
        "        # Trigger KeyError\n",
        "        print(my_dict[\"d\"])  # Accessing a key that doesn't exist\n",
        "\n",
        "    except IndexError as e:\n",
        "        print(f\"IndexError: {e} - You tried to access an index that is out of range.\")\n",
        "\n",
        "    except KeyError as e:\n",
        "        print(f\"KeyError: {e} - The key '{e}' does not exist in the dictionary.\")\n",
        "\n",
        "# Call the function to handle exceptions\n",
        "handle_exceptions()\n"
      ],
      "metadata": {
        "id": "nurL-WH_23Bd",
        "outputId": "61fa19e2-bb85-4dd6-c27e-09ce23bc32c4",
        "colab": {
          "base_uri": "https://localhost:8080/"
        }
      },
      "execution_count": 23,
      "outputs": [
        {
          "output_type": "stream",
          "name": "stdout",
          "text": [
            "IndexError: list index out of range - You tried to access an index that is out of range.\n"
          ]
        }
      ]
    },
    {
      "cell_type": "markdown",
      "source": [
        "20. How would you open a file and read its contents using a context manager in Python"
      ],
      "metadata": {
        "id": "4U8iKdEN2_W3"
      }
    },
    {
      "cell_type": "code",
      "source": [
        "# Open the file using a context manager\n",
        "file_name = 'example.txt'  # Specify the name of your file\n",
        "\n",
        "try:\n",
        "    with open(file_name, 'r') as file:  # 'r' is the read mode\n",
        "        # Read the entire file content\n",
        "        file_contents = file.read()\n",
        "\n",
        "    # Print the contents of the file\n",
        "    print(file_contents)\n",
        "\n",
        "except FileNotFoundError:\n",
        "    print(f\"The file {file_name} does not exist.\")\n",
        "except Exception as e:\n",
        "    print(f\"An error occurred: {e}\")\n"
      ],
      "metadata": {
        "id": "KSQEC_v43Ph0",
        "outputId": "a9c04d4a-144f-4dfb-f7de-fbcbd23423e0",
        "colab": {
          "base_uri": "https://localhost:8080/"
        }
      },
      "execution_count": 24,
      "outputs": [
        {
          "output_type": "stream",
          "name": "stdout",
          "text": [
            "Hello, this is a string written to the file.This is a new line added to the file.\n",
            "\n"
          ]
        }
      ]
    },
    {
      "cell_type": "markdown",
      "source": [
        "21.Write a Python program that reads a file and prints the number of occurrences of a specific word"
      ],
      "metadata": {
        "id": "C5t_F5Dj3hgg"
      }
    },
    {
      "cell_type": "code",
      "source": [
        "def count_word_in_file(file_name, word):\n",
        "    try:\n",
        "        # Open the file using a context manager\n",
        "        with open(file_name, 'r') as file:\n",
        "            # Read the entire file content\n",
        "            file_contents = file.read()\n",
        "\n",
        "            # Count the occurrences of the word (case-insensitive)\n",
        "            word_count = file_contents.lower().count(word.lower())\n",
        "\n",
        "        print(f\"The word '{word}' appears {word_count} times in the file.\")\n",
        "\n",
        "    except FileNotFoundError:\n",
        "        print(f\"The file {file_name} does not exist.\")\n",
        "    except Exception as e:\n",
        "        print(f\"An error occurred: {e}\")\n",
        "\n",
        "# Specify the file name and the word to search for\n",
        "file_name = 'example.txt'  # Change this to your file name\n",
        "word_to_search = 'python'  # Change this to the word you want to count\n",
        "\n",
        "# Call the function to count occurrences\n",
        "count_word_in_file(file_name, word_to_search)\n"
      ],
      "metadata": {
        "id": "4fovf9mP3u_i",
        "outputId": "4faa9081-1f98-4d30-fdfc-6e2ab8d9eb40",
        "colab": {
          "base_uri": "https://localhost:8080/"
        }
      },
      "execution_count": 25,
      "outputs": [
        {
          "output_type": "stream",
          "name": "stdout",
          "text": [
            "The word 'python' appears 0 times in the file.\n"
          ]
        }
      ]
    },
    {
      "cell_type": "markdown",
      "source": [
        "22.How can you check if a file is empty before attempting to read its contents"
      ],
      "metadata": {
        "id": "qW3Vr1pb312y"
      }
    },
    {
      "cell_type": "code",
      "source": [
        "import os\n",
        "\n",
        "def read_file_if_not_empty(file_name):\n",
        "    try:\n",
        "        # Check if the file exists and its size is greater than 0\n",
        "        if os.stat(file_name).st_size == 0:\n",
        "            print(f\"The file '{file_name}' is empty.\")\n",
        "        else:\n",
        "            # File is not empty, proceed to read its content\n",
        "            with open(file_name, 'r') as file:\n",
        "                file_contents = file.read()\n",
        "                print(f\"File contents:\\n{file_contents}\")\n",
        "\n",
        "    except FileNotFoundError:\n",
        "        print(f\"The file '{file_name}' does not exist.\")\n",
        "    except Exception as e:\n",
        "        print(f\"An error occurred: {e}\")\n",
        "\n",
        "# Specify the file name\n",
        "file_name = 'example.txt'  # Replace this with the actual file name\n",
        "\n",
        "# Call the function\n",
        "read_file_if_not_empty(file_name)\n"
      ],
      "metadata": {
        "id": "1pUlKc4f36Uo",
        "outputId": "fcb82c8b-c9ad-4211-b145-5c7e2b4a61e2",
        "colab": {
          "base_uri": "https://localhost:8080/"
        }
      },
      "execution_count": 26,
      "outputs": [
        {
          "output_type": "stream",
          "name": "stdout",
          "text": [
            "File contents:\n",
            "Hello, this is a string written to the file.This is a new line added to the file.\n",
            "\n"
          ]
        }
      ]
    },
    {
      "cell_type": "markdown",
      "source": [
        "23.Write a Python program that writes to a log file when an error occurs during file handling"
      ],
      "metadata": {
        "id": "8eJJiyHA4ORC"
      }
    },
    {
      "cell_type": "code",
      "source": [
        "import logging\n",
        "\n",
        "# Set up the logging configuration\n",
        "logging.basicConfig(\n",
        "    filename='file_handling.log',  # Log file to store error messages\n",
        "    level=logging.ERROR,  # Set the logging level to ERROR to capture error messages\n",
        "    format='%(asctime)s - %(levelname)s - %(message)s'  # Log format with timestamp\n",
        ")\n",
        "\n",
        "def read_file(file_name):\n",
        "    try:\n",
        "        with open(file_name, 'r') as file:\n",
        "            # Attempt to read the content of the file\n",
        "            file_contents = file.read()\n",
        "            print(file_contents)\n",
        "\n",
        "    except FileNotFoundError:\n",
        "        error_message = f\"FileNotFoundError: The file '{file_name}' was not found.\"\n",
        "        logging.error(error_message)  # Log the error message\n",
        "        print(error_message)  # Optionally print the error to the console\n",
        "\n",
        "    except PermissionError:\n",
        "        error_message = f\"PermissionError: You do not have permission to open '{file_name}'.\"\n",
        "        logging.error(error_message)  # Log the error message\n",
        "        print(error_message)  # Optionally print the error to the console\n",
        "\n",
        "    except Exception as e:\n",
        "        error_message = f\"An unexpected error occurred: {str(e)}\"\n",
        "        logging.error(error_message)  # Log the error message\n",
        "        print(error_message)  # Optionally print the error to the console\n",
        "\n",
        "# Example usage\n",
        "file_name = 'non_existent_file.txt'  # You can change this to test different files\n",
        "read_file(file_name)\n"
      ],
      "metadata": {
        "id": "4j0BgaVG4V_u",
        "outputId": "59622925-5a83-4d66-dc09-11ea6cca3bfa",
        "colab": {
          "base_uri": "https://localhost:8080/"
        }
      },
      "execution_count": 27,
      "outputs": [
        {
          "output_type": "stream",
          "name": "stderr",
          "text": [
            "ERROR:root:FileNotFoundError: The file 'non_existent_file.txt' was not found.\n"
          ]
        },
        {
          "output_type": "stream",
          "name": "stdout",
          "text": [
            "FileNotFoundError: The file 'non_existent_file.txt' was not found.\n"
          ]
        }
      ]
    }
  ]
}